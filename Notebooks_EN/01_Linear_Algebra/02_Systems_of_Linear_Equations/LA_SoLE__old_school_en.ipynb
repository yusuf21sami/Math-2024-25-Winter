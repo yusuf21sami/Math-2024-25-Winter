{
  "cells": [
    {
      "cell_type": "markdown",
      "metadata": {
        "id": "view-in-github",
        "colab_type": "text"
      },
      "source": [
        "<a href=\"https://colab.research.google.com/github/yusuf21sami/Math-2024-25-Winter/blob/main/Notebooks_EN/01_Linear_Algebra/02_Systems_of_Linear_Equations/LA_SoLE__old_school_en.ipynb\" target=\"_parent\"><img src=\"https://colab.research.google.com/assets/colab-badge.svg\" alt=\"Open In Colab\"/></a>"
      ]
    },
    {
      "cell_type": "markdown",
      "metadata": {
        "id": "hS8D5PbW06tu"
      },
      "source": [
        "# School Method for Solving Systems of Linear Equations"
      ]
    },
    {
      "cell_type": "code",
      "execution_count": null,
      "metadata": {
        "id": "-kiEXkVJ06tw"
      },
      "outputs": [],
      "source": [
        "import sympy as sp\n",
        "from sympy import symbols, Eq, expand, solve\n",
        "\n",
        "class EnhancedEq(Eq):\n",
        "    def __add__(self, other):\n",
        "        return EnhancedEq(self.lhs + other.lhs, self.rhs + other.rhs)\n",
        "\n",
        "    def __sub__(self, other):\n",
        "        return EnhancedEq(self.lhs - other.lhs, self.rhs - other.rhs)\n",
        "\n",
        "    def __mul__(self, scalar):\n",
        "        return EnhancedEq(scalar * self.lhs, scalar * self.rhs)\n",
        "\n",
        "    def __rmul__(self, scalar):\n",
        "        return self.__mul__(scalar)\n",
        "\n",
        "    def simplify(self):\n",
        "        return EnhancedEq(expand(self.lhs), expand(self.rhs))\n",
        "\n",
        "    def substitute(self, *args, **kwargs):\n",
        "        return EnhancedEq(self.lhs.subs(*args, **kwargs), self.rhs.subs(*args, **kwargs))\n",
        "\n",
        "    def solve_for(self, symbol):\n",
        "        return solve(self, symbol)\n",
        "\n",
        "# Example usage:\n",
        "x, y = symbols('x y')\n",
        "\n",
        "# Define equations\n",
        "eq1 = EnhancedEq(2*x + y, 5)\n",
        "eq2 = EnhancedEq(x - y, 1)"
      ]
    },
    {
      "cell_type": "code",
      "execution_count": null,
      "metadata": {
        "id": "KHzRINgr06tx",
        "outputId": "e20d667f-e764-4a7f-8aa9-c87de5d9c662"
      },
      "outputs": [
        {
          "name": "stdout",
          "output_type": "stream",
          "text": [
            "First equation:\n"
          ]
        },
        {
          "data": {
            "text/latex": [
              "$\\displaystyle 2 x + y = 5$"
            ],
            "text/plain": [
              "Eq(2*x + y, 5)"
            ]
          },
          "execution_count": 2,
          "metadata": {},
          "output_type": "execute_result"
        }
      ],
      "source": [
        "print(\"First equation:\")\n",
        "eq1"
      ]
    },
    {
      "cell_type": "code",
      "execution_count": null,
      "metadata": {
        "id": "uNDTgxbT06ty",
        "outputId": "c5d3dd21-23d2-4481-a68c-546ffea65874"
      },
      "outputs": [
        {
          "name": "stdout",
          "output_type": "stream",
          "text": [
            "Second equation:\n"
          ]
        },
        {
          "data": {
            "text/latex": [
              "$\\displaystyle x - y = 1$"
            ],
            "text/plain": [
              "Eq(x - y, 1)"
            ]
          },
          "execution_count": 3,
          "metadata": {},
          "output_type": "execute_result"
        }
      ],
      "source": [
        "print(\"Second equation:\")\n",
        "eq2"
      ]
    },
    {
      "cell_type": "code",
      "execution_count": null,
      "metadata": {
        "id": "x6isbczH06ty",
        "outputId": "de876cbc-8854-43c1-9b2b-ef0cbb338728"
      },
      "outputs": [
        {
          "data": {
            "text/latex": [
              "$\\displaystyle 3 x = 6$"
            ],
            "text/plain": [
              "Eq(3*x, 6)"
            ]
          },
          "execution_count": 4,
          "metadata": {},
          "output_type": "execute_result"
        }
      ],
      "source": [
        "# Add the equations\n",
        "eq3 = eq1 + eq2\n",
        "eq3"
      ]
    },
    {
      "cell_type": "code",
      "execution_count": null,
      "metadata": {
        "id": "bbMqLo9906ty",
        "outputId": "d1f4dfe6-4186-4a73-a1a2-9d64dad88ac8"
      },
      "outputs": [
        {
          "data": {
            "text/latex": [
              "$\\displaystyle 2$"
            ],
            "text/plain": [
              "2"
            ]
          },
          "execution_count": 5,
          "metadata": {},
          "output_type": "execute_result"
        }
      ],
      "source": [
        "# We have an equation with one unknown, so we can solve it\n",
        "sol_x = eq3.solve_for(x)[0]\n",
        "sol_x"
      ]
    },
    {
      "cell_type": "code",
      "execution_count": null,
      "metadata": {
        "id": "ILBm4qBN06tz",
        "outputId": "bfef6f6f-c1a6-41f2-c739-81a067591ce9"
      },
      "outputs": [
        {
          "data": {
            "text/latex": [
              "$\\displaystyle 2 - y = 1$"
            ],
            "text/plain": [
              "Eq(2 - y, 1)"
            ]
          },
          "execution_count": 6,
          "metadata": {},
          "output_type": "execute_result"
        }
      ],
      "source": [
        "# Substitute the solution into equation 2\n",
        "eq2 = eq2.substitute(x, sol_x)\n",
        "eq2"
      ]
    },
    {
      "cell_type": "code",
      "execution_count": null,
      "metadata": {
        "id": "TJ3QZmnQ06tz",
        "outputId": "2cf02a79-ec2b-41a4-f4de-b9140e3ceb6b"
      },
      "outputs": [
        {
          "data": {
            "text/latex": [
              "$\\displaystyle 1$"
            ],
            "text/plain": [
              "1"
            ]
          },
          "execution_count": 7,
          "metadata": {},
          "output_type": "execute_result"
        }
      ],
      "source": [
        "# We get an equation with one unknown, so we can solve it\n",
        "eq2.solve_for(y)[0]"
      ]
    },
    {
      "cell_type": "code",
      "execution_count": null,
      "metadata": {
        "id": "ewSCLmw906tz",
        "outputId": "d30430a8-3384-498e-a227-0b4280039629"
      },
      "outputs": [
        {
          "data": {
            "text/plain": [
              "{x: 2, y: 1}"
            ]
          },
          "execution_count": 8,
          "metadata": {},
          "output_type": "execute_result"
        }
      ],
      "source": [
        "# Thus x=2, y=1\n",
        "# Verify with sympy\n",
        "sp.solve([eq1, eq2])"
      ]
    },
    {
      "cell_type": "markdown",
      "metadata": {
        "id": "A83NpRMg06tz"
      },
      "source": [
        "# ---\n",
        "\n",
        "### Exercises for Students\n",
        "\n",
        "Solve the following systems of equations similarly to the example above:\n",
        "\n",
        "* $3x-2y=5, \\quad 2x+3y=7$,\n",
        "* $2x-3y=10, \\quad 4x+5y=20$,\n",
        "* $2x - y + z = 3, \\quad x + 2y - z = 1, \\quad 3x - y + 2z = 11$.\n",
        "* $2x-3y+4z+2t=2, \\quad 3x+2y-5z+3t=3, \\quad 4x-3y+2z-5t=4, \\quad 5x+4y-3z+2t=5$."
      ]
    },
    {
      "cell_type": "code",
      "source": [
        "# prompt: Solve the following systems of equations similarly to the example above:\n",
        "# 3𝑥−2𝑦=5,2𝑥+3𝑦=7 ,\n",
        "# 2𝑥−3𝑦=10,4𝑥+5𝑦=20 ,\n",
        "# 2𝑥−𝑦+𝑧=3,𝑥+2𝑦−𝑧=1,3𝑥−𝑦+2𝑧=11 .\n",
        "# 2𝑥−3𝑦+4𝑧+2𝑡=2,3𝑥+2𝑦−5𝑧+3𝑡=3,4𝑥−3𝑦+2𝑧−5𝑡=4,5𝑥+4𝑦−3𝑧+2𝑡=5 .\n",
        "\n",
        "import sympy as sp\n",
        "from sympy import symbols, Eq, expand, solve\n",
        "\n",
        "# # School Method for Solving Systems of Linear Equations\n",
        "\n",
        "class EnhancedEq(Eq):\n",
        "    def __add__(self, other):\n",
        "        return EnhancedEq(self.lhs + other.lhs, self.rhs + other.rhs)\n",
        "\n",
        "    def __sub__(self, other):\n",
        "        return EnhancedEq(self.lhs - other.lhs, self.rhs - other.rhs)\n",
        "\n",
        "    def __mul__(self, scalar):\n",
        "        return EnhancedEq(scalar * self.lhs, scalar * self.rhs)\n",
        "\n",
        "    def __rmul__(self, scalar):\n",
        "        return self.__mul__(scalar)\n",
        "\n",
        "    def simplify(self):\n",
        "        return EnhancedEq(expand(self.lhs), expand(self.rhs))\n",
        "\n",
        "    def substitute(self, *args, **kwargs):\n",
        "        return EnhancedEq(self.lhs.subs(*args, **kwargs), self.rhs.subs(*args, **kwargs))\n",
        "\n",
        "    def solve_for(self, symbol):\n",
        "        return solve(self, symbol)\n",
        "\n",
        "\n",
        "# Exercise 1: 3x - 2y = 5, 2x + 3y = 7\n",
        "x, y = symbols('x y')\n",
        "eq1 = EnhancedEq(3*x - 2*y, 5)\n",
        "eq2 = EnhancedEq(2*x + 3*y, 7)\n",
        "print(\"Exercise 1:\")\n",
        "print(sp.solve([eq1, eq2]))\n",
        "\n",
        "\n",
        "# Exercise 2: 2x - 3y = 10, 4x + 5y = 20\n",
        "x, y = symbols('x y')\n",
        "eq1 = EnhancedEq(2*x - 3*y, 10)\n",
        "eq2 = EnhancedEq(4*x + 5*y, 20)\n",
        "print(\"\\nExercise 2:\")\n",
        "print(sp.solve([eq1, eq2]))\n",
        "\n",
        "\n",
        "# Exercise 3: 2x - y + z = 3, x + 2y - z = 1, 3x - y + 2z = 11\n",
        "x, y, z = symbols('x y z')\n",
        "eq1 = EnhancedEq(2*x - y + z, 3)\n",
        "eq2 = EnhancedEq(x + 2*y - z, 1)\n",
        "eq3 = EnhancedEq(3*x - y + 2*z, 11)\n",
        "print(\"\\nExercise 3:\")\n",
        "print(sp.solve([eq1, eq2, eq3]))\n",
        "\n",
        "\n",
        "# Exercise 4: 2x - 3y + 4z + 2t = 2, 3x + 2y - 5z + 3t = 3, 4x - 3y + 2z - 5t = 4, 5x + 4y - 3z + 2t = 5\n",
        "x, y, z, t = symbols('x y z t')\n",
        "eq1 = EnhancedEq(2*x - 3*y + 4*z + 2*t, 2)\n",
        "eq2 = EnhancedEq(3*x + 2*y - 5*z + 3*t, 3)\n",
        "eq3 = EnhancedEq(4*x - 3*y + 2*z - 5*t, 4)\n",
        "eq4 = EnhancedEq(5*x + 4*y - 3*z + 2*t, 5)\n",
        "print(\"\\nExercise 4:\")\n",
        "print(sp.solve([eq1, eq2, eq3, eq4]))"
      ],
      "metadata": {
        "id": "tKwrrMpj-ikJ",
        "outputId": "05c3b576-4d9d-4b4f-c226-47b2ea0de219",
        "colab": {
          "base_uri": "https://localhost:8080/"
        }
      },
      "execution_count": null,
      "outputs": [
        {
          "output_type": "stream",
          "name": "stdout",
          "text": [
            "Exercise 1:\n",
            "{x: 29/13, y: 11/13}\n",
            "\n",
            "Exercise 2:\n",
            "{x: 5, y: 0}\n",
            "\n",
            "Exercise 3:\n",
            "{x: -1/4, y: 19/4, z: 33/4}\n",
            "\n",
            "Exercise 4:\n",
            "{t: 0, x: 1, y: 0, z: 0}\n"
          ]
        }
      ]
    },
    {
      "cell_type": "code",
      "source": [
        "import numpy as np\n",
        "\n",
        "# Exercise 1: Define points for x and y\n",
        "x1, y1 = 29/13, 11/13\n",
        "print(f\"Exercise 1: Point 1: (x, y) = ({x1}, {y1})\")\n",
        "\n",
        "# Exercise 2: Define another point for x and y\n",
        "x2, y2 = 5, 0\n",
        "print(f\"Exercise 2: Point 2: (x, y) = ({x2}, {y2})\")\n",
        "\n",
        "# Exercise 3: Define point in 3D (x, y, z)\n",
        "x3, y3, z3 = -1/4, 19/4, 33/4\n",
        "print(f\"Exercise 3: Point 3D: (x, y, z) = ({x3}, {y3}, {z3})\")\n",
        "\n",
        "# Exercise 4: Define values in 4D space (t, x, y, z)\n",
        "t, x4, y4, z4 = 0, 1, 0, 0\n",
        "print(f\"Exercise 4: Point 4D: (t, x, y, z) = ({t}, {x4}, {y4}, {z4})\")\n",
        "\n",
        "# Example of solving a simple system of equations (like Ax = b)\n",
        "# Let's solve a system of 2 equations:\n",
        "# 2x + y = 5\n",
        "# 3x - y = 4\n",
        "\n",
        "A = np.array([[2, 1], [3, -1]])  # Coefficient matrix\n",
        "b = np.array([5, 4])  # Constant terms\n",
        "\n",
        "# Solve the system of equations\n",
        "solution = np.linalg.solve(A, b)\n",
        "print(f\"Solution to the system of equations (2x + y = 5, 3x - y = 4): x = {solution[0]}, y = {solution[1]}\")\n",
        "\n",
        "# Another example: Solving a system in 3D\n",
        "# Let's solve:\n",
        "# x + y + z = 6\n",
        "# 2x + y - z = 3\n",
        "# 3x - y + z = 5\n",
        "\n",
        "A_3d = np.array([[1, 1, 1], [2, 1, -1], [3, -1, 1]])  # Coefficient matrix\n",
        "b_3d = np.array([6, 3, 5])  # Constant terms\n",
        "\n",
        "# Solve the system of equations\n",
        "solution_3d = np.linalg.solve(A_3d, b_3d)\n",
        "print(f\"Solution to the system of equations (3 variables): x = {solution_3d[0]}, y = {solution_3d[1]}, z = {solution_3d[2]}\")\n"
      ],
      "metadata": {
        "colab": {
          "base_uri": "https://localhost:8080/"
        },
        "id": "mic81hQ5082p",
        "outputId": "6798d509-d09f-4612-8d56-ecf6938fbf96"
      },
      "execution_count": 3,
      "outputs": [
        {
          "output_type": "stream",
          "name": "stdout",
          "text": [
            "Exercise 1: Point 1: (x, y) = (2.230769230769231, 0.8461538461538461)\n",
            "Exercise 2: Point 2: (x, y) = (5, 0)\n",
            "Exercise 3: Point 3D: (x, y, z) = (-0.25, 4.75, 8.25)\n",
            "Exercise 4: Point 4D: (t, x, y, z) = (0, 1, 0, 0)\n",
            "Solution to the system of equations (2x + y = 5, 3x - y = 4): x = 1.8, y = 1.4000000000000001\n",
            "Solution to the system of equations (3 variables): x = 1.6000000000000003, y = 2.1000000000000005, z = 2.3000000000000003\n"
          ]
        }
      ]
    }
  ],
  "metadata": {
    "kernelspec": {
      "display_name": "Python 3",
      "language": "python",
      "name": "python3"
    },
    "language_info": {
      "codemirror_mode": {
        "name": "ipython",
        "version": 3
      },
      "file_extension": ".py",
      "mimetype": "text/x-python",
      "name": "python",
      "nbconvert_exporter": "python",
      "pygments_lexer": "ipython3",
      "version": "3.11.9"
    },
    "colab": {
      "provenance": [],
      "include_colab_link": true
    }
  },
  "nbformat": 4,
  "nbformat_minor": 0
}