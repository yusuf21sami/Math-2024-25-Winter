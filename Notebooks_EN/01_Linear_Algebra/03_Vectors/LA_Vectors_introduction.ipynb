{
  "cells": [
    {
      "cell_type": "markdown",
      "metadata": {
        "id": "4oRUJIuWP1fh"
      },
      "source": [
        "# Vectors - Introduction\n",
        "\n",
        "**Vectors** are quantities that have both magnitude and direction in space. They are used to describe various physical quantities such as velocity, force, or electric field intensity. Unlike scalars, which have only magnitude (e.g., mass, temperature), vectors require a direction to be specified.\n",
        "\n",
        "A vector is represented with an arrow above the symbol $\\vec{a}$ or in bold type $\\mathbf{a}$.\n",
        "- The magnitude of a vector can be written as $\\vec{a}|$ or $a$.\n",
        "- A vector of length 1 is called a unit vector and is denoted by $\\hat{\\mathbf{a}} = \\frac{\\vec{a}}{|\\vec{a}|}$.\n",
        "\n",
        "**Example:**\n",
        "\n",
        "The vector $\\mathbf{a}= [3, 4]$ has a magnitude $a = 5$, and the corresponding unit vector (unit vector along the direction of vector $\\mathbf{a}$) is expressed as $\\hat{\\mathbf{a}} = \\left[\\frac{3}{5}, \\frac{4}{5}\\right]$.\n"
      ]
    },
    {
      "cell_type": "code",
      "execution_count": null,
      "metadata": {
        "id": "Bdk2Q7A4P1fk",
        "outputId": "27d871dc-2d8a-4f6e-869a-35289fc9964f"
      },
      "outputs": [
        {
          "data": {
            "text/latex": [
              "$\\displaystyle \\sqrt{a_{x}^{2} + a_{y}^{2}}$"
            ],
            "text/plain": [
              "sqrt(a_x**2 + a_y**2)"
            ]
          },
          "execution_count": 2,
          "metadata": {},
          "output_type": "execute_result"
        }
      ],
      "source": [
        "import sympy as sp  # import the sympy module\n",
        "\n",
        "# For vector $\\mathbf{a} = [a_x, a_y]$, the magnitude is given by the formula:\n",
        "# $$ |\\mathbf{a}| = a = \\sqrt{a_x^2 + a_y^2} $$\n",
        "\n",
        "a_x, a_y = sp.symbols('a_x a_y')  # Step 1: Define symbolic variables a_x and a_y\n",
        "magnitude_a = sp.sqrt(a_x**2 + a_y**2)  # Step 2: Create the formula for the magnitude of vector a\n",
        "magnitude_a  # Step 3: Display the result"
      ]
    },
    {
      "cell_type": "code",
      "execution_count": null,
      "metadata": {
        "id": "awYW5pUrP1fl",
        "outputId": "bdc217f8-2871-4d42-8d95-767a32e23b1b"
      },
      "outputs": [
        {
          "data": {
            "text/latex": [
              "$\\displaystyle 5.0$"
            ],
            "text/plain": [
              "5.00000000000000"
            ]
          },
          "execution_count": 3,
          "metadata": {},
          "output_type": "execute_result"
        }
      ],
      "source": [
        "# Assign values to a_x and a_y\n",
        "a_x = 3  # x component of the vector\n",
        "a_y = 4  # y component of the vector\n",
        "\n",
        "magnitude_a = sp.sqrt(a_x**2 + a_y**2)  # Calculate the magnitude of the vector for a_x = 3 and a_y = 4\n",
        "magnitude_a.evalf()  # Numerically calculate the magnitude of the vector (expected result: 5)"
      ]
    },
    {
      "cell_type": "markdown",
      "metadata": {
        "id": "tw1-kbuAP1fm"
      },
      "source": [
        "## Vector Addition\n",
        "\n",
        "Vector addition involves adding the corresponding components of vectors of the same length.\n",
        "\n",
        "For two vectors $\\mathbf{a}$ and $\\mathbf{b}$ in the space $\\mathbb{R}^n$, where:\n",
        "\n",
        "$$\n",
        "\\mathbf{a} = [a_1, a_2, \\dots, a_n], \\quad \\mathbf{b} = [b_1, b_2, \\dots, b_n]\n",
        "$$\n",
        "\n",
        "Vector addition is defined as follows:\n",
        "\n",
        "$$\n",
        "\\mathbf{a} + \\mathbf{b} = [a_1 + b_1, a_2 + b_2, \\dots, a_n + b_n]\n",
        "$$\n",
        "\n",
        "## Scalar Multiplication of a Vector\n",
        "\n",
        "Scalar multiplication of a vector involves multiplying each component of the vector by the same number.\n",
        "\n",
        "For a vector $\\mathbf{a}$ and a scalar $k$:\n",
        "\n",
        "$$\n",
        "k \\mathbf{a} = [k a_1, k a_2, \\dots, k a_n]\n",
        "$$\n",
        "\n",
        "## Vectors in the Plane and Space\n",
        "\n",
        "**Vectors in 2D:**\n",
        "\n",
        "If $\\mathbf{a} = [a_x, a_y]$, then the magnitude is given by the formula $|\\mathbf{a}| = a = \\sqrt{a_x^2 + a_y^2}$.\n",
        "\n",
        "**Vectors in 3D:**\n",
        "\n",
        "If $\\mathbf{a} = [a_x, a_y, a_z]$, then the magnitude of the vector is $|\\mathbf{a}| = a = \\sqrt{a_x^2 + a_y^2 + a_z^2}$.\n",
        "\n",
        "## Plotting a Vector"
      ]
    },
    {
      "cell_type": "code",
      "execution_count": null,
      "metadata": {
        "id": "xFUmpYs-P1fm",
        "outputId": "41bcc264-080d-401c-aa24-cc2027d4cc96"
      },
      "outputs": [
        {
          "data": {
            "image/png": "[encoded data removed]",
            "text/plain": [
              "<Figure size 640x480 with 1 Axes>"
            ]
          },
          "metadata": {},
          "output_type": "display_data"
        }
      ],
      "source": [
        "import matplotlib.pyplot as plt # import the matplotlib.pyplot module\n",
        "\n",
        "plt.figure() # create a new figure\n",
        "plt.quiver(0, 0, 3, 4, angles='xy', scale_units='xy', scale=1, color='r') # quick way to plot a vector quiver(x_start, y_start, x_end, y_end)\n",
        "plt.xlim(0, 5) # set x-axis range\n",
        "plt.ylim(0, 5) # set y-axis range\n",
        "plt.grid(True) # enable grid\n",
        "plt.gca().set_aspect('equal') # set equal scaling on x and y axes\n",
        "plt.show()"
      ]
    },
    {
      "cell_type": "markdown",
      "metadata": {
        "id": "CjmBt86oP1fm"
      },
      "source": [
        "## Example of Simple Vector Implementation in Python\n",
        "\n",
        "Given vectors $\\mathbf{a}=[1, 2]$ and $\\mathbf{b}=[3, 4]$, we want to calculate their sum $\\mathbf{c}=\\mathbf{a}+\\mathbf{b}= [1+3, 2+4] = [4, 6]$"
      ]
    },
    {
      "cell_type": "code",
      "execution_count": null,
      "metadata": {
        "id": "iM_KaW1bP1fn",
        "outputId": "182d08ab-c0e1-4325-dc0b-9fc567ed56b3"
      },
      "outputs": [
        {
          "data": {
            "text/plain": [
              "[4, 6]"
            ]
          },
          "execution_count": 5,
          "metadata": {},
          "output_type": "execute_result"
        }
      ],
      "source": [
        "import sympy as sp # import the sympy module\n",
        "\n",
        "a=[1, 2] # vector a\n",
        "b=[3, 4] # vector b\n",
        "c = [a[0] + b[0], a[1] + b[1]] # sum of vectors a and b\n",
        "c # display the result"
      ]
    },
    {
      "cell_type": "markdown",
      "metadata": {
        "id": "2aEkMMNEP1fn"
      },
      "source": [
        "## Example of Better Vector Implementation in Python\n",
        "\n",
        "Vectors are represented as column matrices. Then vector addition is the same as matrix addition."
      ]
    },
    {
      "cell_type": "code",
      "execution_count": null,
      "metadata": {
        "id": "p3H885i1P1fn",
        "outputId": "4aa36c09-856d-4f0f-a3e1-f9f7cc7100bf"
      },
      "outputs": [
        {
          "data": {
            "text/latex": [
              "$\\displaystyle \\left[\\begin{matrix}12\\\\5\\\\18\\end{matrix}\\right]$"
            ],
            "text/plain": [
              "Matrix([\n",
              "[12],\n",
              "[ 5],\n",
              "[18]])"
            ]
          },
          "execution_count": 6,
          "metadata": {},
          "output_type": "execute_result"
        }
      ],
      "source": [
        "import sympy as sp\n",
        "\n",
        "# Vector definitions\n",
        "a = sp.Matrix([1, 2, 3])\n",
        "b = sp.Matrix([4, 5, 6])\n",
        "c = sp.Matrix([7, 0, 9])\n",
        "d = sp.Matrix([0, 2, 0])\n",
        "\n",
        "a + b + c - d # An operation involving addition and subtraction of vectors"
      ]
    },
    {
      "cell_type": "markdown",
      "metadata": {
        "id": "4YC3bRN6P1fn"
      },
      "source": [
        "## Plotting Vector Addition\n",
        "\n",
        "Example: $\\mathbf{a}=[2,1]$ and $\\mathbf{b}=[1,2]$ results in vector $\\mathbf{c}=\\mathbf{a}+\\mathbf{b}=[3,3]$."
      ]
    },
    {
      "cell_type": "code",
      "execution_count": null,
      "metadata": {
        "id": "0sNzPk2pP1fn",
        "outputId": "6b1c5656-3223-4b04-fee2-67aff719f3a9"
      },
      "outputs": [
        {
          "data": {
            "image/png": "[encoded data removed]",
            "text/plain": [
              "<Figure size 640x480 with 1 Axes>"
            ]
          },
          "metadata": {},
          "output_type": "display_data"
        }
      ],
      "source": [
        "import matplotlib.pyplot as plt # import the matplotlib.pyplot module #example of vector addition in two-dimensional space\n",
        "\n",
        "plt.figure() # create a new figure\n",
        "plt.quiver(0, 0, 2, 1, angles='xy', scale_units='xy', scale=1, color='r') # quick way to plot vectors quiver(x_start, y_start, x_end, y_end)\n",
        "plt.quiver(0, 0, 1, 2, angles='xy', scale_units='xy', scale=1, color='b') # quick way to plot vectors quiver(x_start, y_start, x_end, y_end)\n",
        "plt.quiver(0, 0, 3, 3, angles='xy', scale_units='xy', scale=1, color='g') # quick way to plot vectors quiver(x_start, y_start, x_end, y_end)\n",
        "plt.xlim(-1, 4) # set x-axis range\n",
        "plt.ylim(-1, 4) # set y-axis range\n",
        "plt.grid(True) # enable grid\n",
        "plt.gca().set_aspect('equal') # set equal scaling on x and y axes\n",
        "plt.show()"
      ]
    },
    {
      "cell_type": "markdown",
      "metadata": {
        "id": "myOPPcdCP1fo"
      },
      "source": [
        "## Coordinate Systems in the Plane and Space\n",
        "\n",
        "**Cartesian Coordinate System** is the basic coordinate system in which points in space are specified by their distances from fixed axes: $x$, $y$ (for 2D) and $z$ (for 3D).\n",
        "\n",
        "- In 2D, each point can be written as $(x, y)$.\n",
        "- In 3D, points are of the form $(x, y, z)$.\n",
        "\n",
        "**Polar Coordinate System** is used in 2D and defines a point by its distance from the origin (r) and the angle (θ) relative to the reference axis.\n",
        "\n",
        "**Spherical Coordinate System** is used in 3D and defines a point by its distance from the origin (r), azimuth angle (θ), and elevation angle (φ).\n",
        "\n",
        "Vectors can be represented using components in the Cartesian coordinate system, where each component corresponds to the distance of the point from the respective coordinate axis.\n",
        "\n",
        "- For a vector in two-dimensional space: $\\mathbf{a} = [a_x, a_y] = a_x\\hat{\\mathbf{i}} + a_y\\hat{\\mathbf{j}}$\n",
        "- For a vector in three-dimensional space: $\\mathbf{a} = [a_x, a_y, a_z] = a_x\\hat{\\mathbf{i}} + a_y\\hat{\\mathbf{j}} + a_z\\hat{\\mathbf{k}}$\n",
        "\n",
        "## Basis\n",
        "\n",
        "**Basis** of vectors is a set of vectors that spans a vector space. In Cartesian space, the standard basis vectors are $\\hat{\\mathbf{i}}, \\hat{\\mathbf{j}}, \\hat{\\mathbf{k}}$.\n",
        "\n",
        "For 2D:\n",
        "\n",
        "$$\n",
        "\\hat{\\mathbf{i}} = [1, 0], \\quad \\hat{\\mathbf{j}} = [0, 1]\n",
        "$$\n",
        "\n",
        "For 3D:\n",
        "\n",
        "$$\n",
        "\\hat{\\mathbf{i}} = [1, 0, 0], \\quad \\hat{\\mathbf{j}} = [0, 1, 0], \\quad \\hat{\\mathbf{k}} = [0, 0, 1]\n",
        "$$\n",
        "\n",
        "These basis vectors are unit vectors and are perpendicular to each other.\n",
        "\n",
        "### Finding the Coordinates of a Vector in a New Basis\n",
        "\n",
        "To find the coordinates of vector $\\mathbf{v}$ in a new basis $\\{\\mathbf{b_1}, \\mathbf{b_2}, \\mathbf{b_3}\\}$, express $\\mathbf{v}$ as a linear combination of the basis vectors.\n",
        "\n",
        "$$\n",
        "\\mathbf{v} = c_1 \\mathbf{b_1} + c_2 \\mathbf{b_2} + c_3 \\mathbf{b_3}\n",
        "$$\n",
        "\n",
        "The coefficients $c_1, c_2, c_3$ are the coordinates of vector $\\mathbf{v}$ in the new basis.\n",
        "\n",
        "---\n",
        "\n",
        "## Student Exercises\n",
        "\n",
        "A. By what number should vector $\\mathbf{a} = [3, 4]$ be multiplied so that its length is equal to 1?\n",
        "\n",
        "B. Calculate the length of vector $\\mathbf{b} = [1, 1]$ and find the unit vector of this vector.\n",
        "\n",
        "C. Plot the vector and the unit vector from the previous exercise.\n",
        "\n",
        "D. Calculate the length of vector $\\mathbf{c} = [1, 2, 3]$ and find the unit vector of this vector.\n",
        "\n",
        "E. Find the Cartesian coordinates of vector $\\mathbf{v} = [2, 3, 4]$ in the basis $\\{\\mathbf{b_1} = [1, 0, 1], \\mathbf{b_2} = [0, 1, 0], \\mathbf{b_3} = [1, 0, -1]\\}$."
      ]
    },
    {
      "cell_type": "code",
      "source": [
        "#ex 1:\n",
        "import numpy as np\n",
        "\n",
        "# Given vector a\n",
        "a = np.array([3, 4])\n",
        "\n",
        "# Calculate the magnitude of vector a\n",
        "magnitude_a = np.linalg.norm(a)\n",
        "\n",
        "# Find the scalar to multiply by to get the magnitude of 1\n",
        "scale_factor = 1 / magnitude_a\n",
        "\n",
        "# Scale the vector\n",
        "a_unit = a * scale_factor\n",
        "\n",
        "# Output the scaled vector and the scale factor\n",
        "print(f\"Scalar to multiply with: {scale_factor}\")\n",
        "print(f\"Unit vector: {a_unit}\")\n"
      ],
      "metadata": {
        "id": "rafbuw8eQCXJ",
        "outputId": "726c0f20-bc63-4f84-b87e-5a94bef273c4",
        "colab": {
          "base_uri": "https://localhost:8080/"
        }
      },
      "execution_count": 2,
      "outputs": [
        {
          "output_type": "stream",
          "name": "stdout",
          "text": [
            "Scalar to multiply with: 0.2\n",
            "Unit vector: [0.6 0.8]\n"
          ]
        }
      ]
    },
    {
      "cell_type": "code",
      "source": [
        "#ex 2:\n",
        "import numpy as np\n",
        "\n",
        "# Given vector b\n",
        "b = np.array([1, 1])\n",
        "\n",
        "# Calculate the magnitude of vector b\n",
        "magnitude_b = np.linalg.norm(b)\n",
        "\n",
        "# Find the unit vector by dividing b by its magnitude\n",
        "b_unit = b / magnitude_b\n",
        "\n",
        "# Output the magnitude and the unit vector\n",
        "print(f\"Magnitude of vector b: {magnitude_b}\")\n",
        "print(f\"Unit vector of b: {b_unit}\")\n"
      ],
      "metadata": {
        "id": "LIix9gx_QSyN",
        "outputId": "011952a8-970a-43a5-fd52-496623d8ab60",
        "colab": {
          "base_uri": "https://localhost:8080/"
        }
      },
      "execution_count": 3,
      "outputs": [
        {
          "output_type": "stream",
          "name": "stdout",
          "text": [
            "Magnitude of vector b: 1.4142135623730951\n",
            "Unit vector of b: [0.70710678 0.70710678]\n"
          ]
        }
      ]
    },
    {
      "cell_type": "code",
      "source": [
        "import numpy as np\n",
        "import matplotlib.pyplot as plt\n",
        "\n",
        "# Given vector b\n",
        "b = np.array([1, 1])\n",
        "\n",
        "# Calculate the magnitude of vector b\n",
        "magnitude_b = np.linalg.norm(b)\n",
        "\n",
        "# Find the unit vector by dividing b by its magnitude\n",
        "b_unit = b / magnitude_b\n",
        "\n",
        "# Create the plot\n",
        "plt.figure(figsize=(6, 6))\n",
        "\n",
        "# Plot the original vector (b)\n",
        "plt.quiver(0, 0, b[0], b[1], angles='xy', scale_units='xy', scale=1, color='blue', label=\"Original Vector b\")\n",
        "\n",
        "# Plot the unit vector (b_unit)\n",
        "plt.quiver(0, 0, b_unit[0], b_unit[1], angles='xy', scale_units='xy', scale=1, color='red', label=\"Unit Vector b\")\n",
        "\n",
        "# Set the axis limits\n",
        "plt.xlim(-1.5, 1.5)\n",
        "plt.ylim(-1.5, 1.5)\n",
        "\n",
        "# Add grid and labels\n",
        "plt.axhline(0, color='black',linewidth=0.5)\n",
        "plt.axvline(0, color='black',linewidth=0.5)\n",
        "plt.grid(True)\n",
        "\n",
        "# Add legend\n",
        "plt.legend()\n",
        "\n",
        "# Set aspect ratio to be equal\n",
        "plt.gca().set_aspect('equal', adjustable='box')\n",
        "\n",
        "# Title and display the plot\n",
        "plt.title('Original Vector and Unit Vector')\n",
        "plt.show()\n"
      ],
      "metadata": {
        "id": "7JoXM-RfQfQw",
        "outputId": "164700b1-4ea2-436a-9bd5-07ead35aff94",
        "colab": {
          "base_uri": "https://localhost:8080/",
          "height": 545
        }
      },
      "execution_count": 4,
      "outputs": [
        {
          "output_type": "display_data",
          "data": {
            "text/plain": [
              "<Figure size 600x600 with 1 Axes>"
            ],
            "image/png": "[encoded data removed]"
          },
          "metadata": {}
        }
      ]
    },
    {
      "cell_type": "code",
      "source": [
        "import numpy as np\n",
        "\n",
        "# Given vector c\n",
        "c = np.array([1, 2, 3])\n",
        "\n",
        "# Calculate the magnitude of vector c\n",
        "magnitude_c = np.linalg.norm(c)\n",
        "\n",
        "# Find the unit vector by dividing c by its magnitude\n",
        "c_unit = c / magnitude_c\n",
        "\n",
        "# Output the magnitude and the unit vector\n",
        "print(f\"Magnitude of vector c: {magnitude_c}\")\n",
        "print(f\"Unit vector of c: {c_unit}\")\n"
      ],
      "metadata": {
        "id": "JBe2aDMqQrN4",
        "outputId": "6fe4f53c-3d7b-4b4e-f115-6450ea54ad99",
        "colab": {
          "base_uri": "https://localhost:8080/"
        }
      },
      "execution_count": 5,
      "outputs": [
        {
          "output_type": "stream",
          "name": "stdout",
          "text": [
            "Magnitude of vector c: 3.7416573867739413\n",
            "Unit vector of c: [0.26726124 0.53452248 0.80178373]\n"
          ]
        }
      ]
    },
    {
      "cell_type": "code",
      "source": [
        "import numpy as np\n",
        "\n",
        "# Given vectors\n",
        "v = np.array([2, 3, 4])\n",
        "b1 = np.array([1, 0, 1])\n",
        "b2 = np.array([0, 1, 0])\n",
        "b3 = np.array([1, 0, -1])\n",
        "\n",
        "# Set up the matrix for the system of equations\n",
        "A = np.array([b1, b2, b3]).T  # Matrix with columns as basis vectors\n",
        "# A.T @ c = v, so we solve A @ c = v\n",
        "# where c is the vector of coefficients [c1, c2, c3]\n",
        "\n",
        "# Solve for c (the coordinates of v in the new basis)\n",
        "coordinates = np.linalg.solve(A, v)\n",
        "\n",
        "# Output the result\n",
        "print(f\"Cartesian coordinates of v in the new basis: {coordinates}\")\n"
      ],
      "metadata": {
        "id": "3PmQBb2tQ08s",
        "outputId": "db7c386c-9331-4197-bdcb-e13567d1e368",
        "colab": {
          "base_uri": "https://localhost:8080/"
        }
      },
      "execution_count": 6,
      "outputs": [
        {
          "output_type": "stream",
          "name": "stdout",
          "text": [
            "Cartesian coordinates of v in the new basis: [ 3.  3. -1.]\n"
          ]
        }
      ]
    },
    {
      "cell_type": "code",
      "source": [],
      "metadata": {
        "id": "aTLLvARNQ9mj"
      },
      "execution_count": null,
      "outputs": []
    }
  ],
  "metadata": {
    "kernelspec": {
      "display_name": ".venv",
      "language": "python",
      "name": "python3"
    },
    "language_info": {
      "codemirror_mode": {
        "name": "ipython",
        "version": 3
      },
      "file_extension": ".py",
      "mimetype": "text/x-python",
      "name": "python",
      "nbconvert_exporter": "python",
      "pygments_lexer": "ipython3",
      "version": "3.11.9"
    },
    "colab": {
      "provenance": []
    }
  },
  "nbformat": 4,
  "nbformat_minor": 0
}